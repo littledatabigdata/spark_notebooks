{
 "cells": [
  {
   "cell_type": "code",
   "execution_count": 1,
   "metadata": {
    "collapsed": false,
    "deletable": true,
    "editable": true
   },
   "outputs": [
    {
     "name": "stdout",
     "output_type": "stream",
     "text": [
      "+---+-----+\n",
      "|src|count|\n",
      "+---+-----+\n",
      "|  3|    1|\n",
      "|  1|    3|\n",
      "|  4|    1|\n",
      "|  2|    1|\n",
      "+---+-----+\n",
      "\n",
      "+---+---+-----+\n",
      "|src|dst|count|\n",
      "+---+---+-----+\n",
      "|  3|  1|    1|\n",
      "|  1|  4|    3|\n",
      "|  1|  3|    3|\n",
      "|  1|  2|    3|\n",
      "|  4|  1|    1|\n",
      "|  2|  1|    1|\n",
      "+---+---+-----+\n",
      "\n",
      "+----+-----+\n",
      "|dst1|count|\n",
      "+----+-----+\n",
      "|   3|    1|\n",
      "|   1|    3|\n",
      "|   4|    1|\n",
      "|   2|    1|\n",
      "+----+-----+\n",
      "\n"
     ]
    }
   ],
   "source": [
    "from pyspark.sql.functions import *\n",
    "\n",
    "e = spark.read.csv(\"../data/graph.csv\", header=True)\n",
    "r = sc.parallelize([(1,),(2,),(3,),(4,)]).toDF(['src'])\n",
    "r1 = e.join(r, 'src').groupBy('dst').count().withColumnRenamed('dst','src')\n",
    "r1.show()\n",
    "jr = e.join(r1, 'src')\n",
    "jr.show()\n",
    "#r2 = jr.groupBy('dst').count()\n",
    "r2 = jr.withColumnRenamed('dst','dst1').groupBy('dst1').count()\n",
    "r2.show()\n"
   ]
  },
  {
   "cell_type": "code",
   "execution_count": null,
   "metadata": {
    "collapsed": true,
    "deletable": true,
    "editable": true
   },
   "outputs": [],
   "source": []
  }
 ],
 "metadata": {
  "kernelspec": {
   "display_name": "Apache Toree - PySpark",
   "language": "python",
   "name": "apache_toree_pyspark"
  },
  "language_info": {
   "file_extension": ".py",
   "name": "python",
   "pygments_lexer": "python",
   "version": "2.7.14\n"
  }
 },
 "nbformat": 4,
 "nbformat_minor": 2
}
